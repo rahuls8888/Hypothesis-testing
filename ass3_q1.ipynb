{
  "nbformat": 4,
  "nbformat_minor": 0,
  "metadata": {
    "colab": {
      "provenance": []
    },
    "kernelspec": {
      "name": "python3",
      "display_name": "Python 3"
    },
    "language_info": {
      "name": "python"
    }
  },
  "cells": [
    {
      "cell_type": "code",
      "execution_count": 37,
      "metadata": {
        "id": "o0U_y4n4Aann"
      },
      "outputs": [],
      "source": [
        "import pandas as pd\n",
        "import numpy as np\n",
        "import matplotlib.pyplot as plt\n",
        "import seaborn as sns\n",
        "from scipy import stats"
      ]
    },
    {
      "cell_type": "code",
      "source": [
        "import pandas as pd\n",
        "\n",
        "df=pd.read_csv(\"Cutlets.csv\")\n",
        "\n",
        "# Get Random Sample (e.g., 10 rows)\n",
        "random_sample_a = df['Unit A'].sample(n=10)  # Change 10 to the number of rows you want in your sample\n",
        "print(random_sample_a.mean())\n",
        "print(round(random_sample_a.mean(),2))\n",
        "print(random_sample_a.std())\n",
        "round(random_sample_a.std(),2)\n"
      ],
      "metadata": {
        "colab": {
          "base_uri": "https://localhost:8080/"
        },
        "id": "8ZiHPt6A7DvI",
        "outputId": "5c99b81c-02c3-4504-f4b4-d65f7c1fd1d8"
      },
      "execution_count": 38,
      "outputs": [
        {
          "output_type": "stream",
          "name": "stdout",
          "text": [
            "7.065610000000001\n",
            "7.07\n",
            "0.21884853945645205\n"
          ]
        },
        {
          "output_type": "execute_result",
          "data": {
            "text/plain": [
              "0.22"
            ]
          },
          "metadata": {},
          "execution_count": 38
        }
      ]
    },
    {
      "cell_type": "code",
      "source": [
        "df=pd.read_csv(\"Cutlets.csv\")\n",
        "random_sample_b=df['Unit B'].sample(n=10)\n",
        "print(random_sample_b)\n",
        "print(random_sample_b.mean())\n",
        "print(round(random_sample_b.mean(),2))\n",
        "print(random_sample_b.std())\n",
        "print(round(random_sample_b.std(),2))"
      ],
      "metadata": {
        "colab": {
          "base_uri": "https://localhost:8080/"
        },
        "id": "AJmkEokF7D7G",
        "outputId": "201c2480-65ba-4ae6-f7b8-6742a8c3a8cb"
      },
      "execution_count": 39,
      "outputs": [
        {
          "output_type": "stream",
          "name": "stdout",
          "text": [
            "19    6.7478\n",
            "33    6.5780\n",
            "8     7.2402\n",
            "22    6.5217\n",
            "29    7.5459\n",
            "6     7.2212\n",
            "15    7.0240\n",
            "0     6.7703\n",
            "34    7.3875\n",
            "17    7.4314\n",
            "Name: Unit B, dtype: float64\n",
            "7.0468\n",
            "7.05\n",
            "0.3716016265961289\n",
            "0.37\n"
          ]
        }
      ]
    },
    {
      "cell_type": "code",
      "source": [
        "t_statistic, p_value = stats.ttest_ind(random_sample_a,random_sample_b)\n",
        "t_statistic,p_value\n"
      ],
      "metadata": {
        "colab": {
          "base_uri": "https://localhost:8080/"
        },
        "id": "pI-piQp8-p1d",
        "outputId": "fc95bc2a-8973-4d8e-f7b8-6a2ea355779f"
      },
      "execution_count": 40,
      "outputs": [
        {
          "output_type": "execute_result",
          "data": {
            "text/plain": [
              "(0.13792811814097927, 0.8918284672400332)"
            ]
          },
          "metadata": {},
          "execution_count": 40
        }
      ]
    },
    {
      "cell_type": "code",
      "source": [
        "if p_value < 0.05:\n",
        "    print(\"Reject the null hypothesis. There is a significant difference.\")\n",
        "else:\n",
        "    print(\"Fail to reject the null hypothesis. There is no significant difference.\")"
      ],
      "metadata": {
        "colab": {
          "base_uri": "https://localhost:8080/"
        },
        "id": "3IVpvk72-p5E",
        "outputId": "e7c724c0-46b0-4dc7-dd40-a3cf77d7f16c"
      },
      "execution_count": 41,
      "outputs": [
        {
          "output_type": "stream",
          "name": "stdout",
          "text": [
            "Fail to reject the null hypothesis. There is no significant difference.\n"
          ]
        }
      ]
    },
    {
      "cell_type": "code",
      "source": [],
      "metadata": {
        "id": "qMUtRvtU-p-u"
      },
      "execution_count": 41,
      "outputs": []
    }
  ]
}